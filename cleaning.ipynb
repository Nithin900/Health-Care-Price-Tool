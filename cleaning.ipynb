{
 "cells": [
  {
   "cell_type": "code",
   "execution_count": 2,
   "metadata": {},
   "outputs": [],
   "source": [
    "import pandas as pd\n",
    "import numpy as np\n",
    "import matplotlib.pyplot as plt\n",
    "import seaborn as sns"
   ]
  },
  {
   "cell_type": "code",
   "execution_count": 3,
   "metadata": {},
   "outputs": [],
   "source": [
    "#loading file \n",
    "df = pd.read_csv(r\"C:\\Users\\sambo\\OneDrive\\Desktop\\DAB 311\\new_df.csv\", low_memory=False)\n"
   ]
  },
  {
   "cell_type": "code",
   "execution_count": 4,
   "metadata": {},
   "outputs": [
    {
     "data": {
      "text/html": [
       "<div>\n",
       "<style scoped>\n",
       "    .dataframe tbody tr th:only-of-type {\n",
       "        vertical-align: middle;\n",
       "    }\n",
       "\n",
       "    .dataframe tbody tr th {\n",
       "        vertical-align: top;\n",
       "    }\n",
       "\n",
       "    .dataframe thead th {\n",
       "        text-align: right;\n",
       "    }\n",
       "</style>\n",
       "<table border=\"1\" class=\"dataframe\">\n",
       "  <thead>\n",
       "    <tr style=\"text-align: right;\">\n",
       "      <th></th>\n",
       "      <th>PlanId</th>\n",
       "      <th>BenefitName</th>\n",
       "      <th>Explanation</th>\n",
       "      <th>Unnamed: 3</th>\n",
       "    </tr>\n",
       "  </thead>\n",
       "  <tbody>\n",
       "    <tr>\n",
       "      <th>0</th>\n",
       "      <td>21989AK0030001-00</td>\n",
       "      <td>Routine Dental Services (Adult)</td>\n",
       "      <td>See policy for other limits</td>\n",
       "      <td>Explanation</td>\n",
       "    </tr>\n",
       "    <tr>\n",
       "      <th>1</th>\n",
       "      <td>21989AK0030001-00</td>\n",
       "      <td>Dental Check-Up for Children</td>\n",
       "      <td>See policy for limits</td>\n",
       "      <td>See policy for other limits</td>\n",
       "    </tr>\n",
       "    <tr>\n",
       "      <th>2</th>\n",
       "      <td>21989AK0030001-00</td>\n",
       "      <td>Basic Dental Care - Child</td>\n",
       "      <td>See policy for limits</td>\n",
       "      <td>See policy for limits</td>\n",
       "    </tr>\n",
       "    <tr>\n",
       "      <th>3</th>\n",
       "      <td>21989AK0030001-00</td>\n",
       "      <td>Orthodontia - Child</td>\n",
       "      <td>For medically necessary only</td>\n",
       "      <td>For medically necessary only</td>\n",
       "    </tr>\n",
       "    <tr>\n",
       "      <th>4</th>\n",
       "      <td>21989AK0030001-00</td>\n",
       "      <td>Major Dental Care - Child</td>\n",
       "      <td>See policy for limits</td>\n",
       "      <td>0</td>\n",
       "    </tr>\n",
       "  </tbody>\n",
       "</table>\n",
       "</div>"
      ],
      "text/plain": [
       "              PlanId                      BenefitName  \\\n",
       "0  21989AK0030001-00  Routine Dental Services (Adult)   \n",
       "1  21989AK0030001-00     Dental Check-Up for Children   \n",
       "2  21989AK0030001-00        Basic Dental Care - Child   \n",
       "3  21989AK0030001-00              Orthodontia - Child   \n",
       "4  21989AK0030001-00        Major Dental Care - Child   \n",
       "\n",
       "                    Explanation                    Unnamed: 3  \n",
       "0   See policy for other limits                   Explanation  \n",
       "1         See policy for limits   See policy for other limits  \n",
       "2         See policy for limits         See policy for limits  \n",
       "3  For medically necessary only  For medically necessary only  \n",
       "4         See policy for limits                             0  "
      ]
     },
     "execution_count": 4,
     "metadata": {},
     "output_type": "execute_result"
    }
   ],
   "source": [
    "df.head()"
   ]
  },
  {
   "cell_type": "code",
   "execution_count": 5,
   "metadata": {},
   "outputs": [
    {
     "data": {
      "text/plain": [
       "Index(['PlanId', 'BenefitName', 'Explanation', 'Unnamed: 3'], dtype='object')"
      ]
     },
     "execution_count": 5,
     "metadata": {},
     "output_type": "execute_result"
    }
   ],
   "source": [
    "df.columns"
   ]
  },
  {
   "cell_type": "code",
   "execution_count": 6,
   "metadata": {},
   "outputs": [
    {
     "name": "stdout",
     "output_type": "stream",
     "text": [
      "<class 'pandas.core.frame.DataFrame'>\n",
      "RangeIndex: 1048575 entries, 0 to 1048574\n",
      "Data columns (total 4 columns):\n",
      " #   Column       Non-Null Count    Dtype \n",
      "---  ------       --------------    ----- \n",
      " 0   PlanId       1048575 non-null  object\n",
      " 1   BenefitName  1048575 non-null  object\n",
      " 2   Explanation  321519 non-null   object\n",
      " 3   Unnamed: 3   1368 non-null     object\n",
      "dtypes: object(4)\n",
      "memory usage: 32.0+ MB\n"
     ]
    }
   ],
   "source": [
    "df.info()"
   ]
  },
  {
   "cell_type": "code",
   "execution_count": 7,
   "metadata": {},
   "outputs": [
    {
     "name": "stdout",
     "output_type": "stream",
     "text": [
      "PlanId               0\n",
      "BenefitName          0\n",
      "Explanation     727056\n",
      "Unnamed: 3     1047207\n",
      "dtype: int64\n"
     ]
    }
   ],
   "source": [
    "#checking the null values \n",
    "print(df.isnull().sum())\n"
   ]
  },
  {
   "cell_type": "code",
   "execution_count": 8,
   "metadata": {},
   "outputs": [
    {
     "name": "stderr",
     "output_type": "stream",
     "text": [
      "C:\\Users\\sambo\\AppData\\Local\\Temp\\ipykernel_13072\\1550032352.py:2: FutureWarning: A value is trying to be set on a copy of a DataFrame or Series through chained assignment using an inplace method.\n",
      "The behavior will change in pandas 3.0. This inplace method will never work because the intermediate object on which we are setting values always behaves as a copy.\n",
      "\n",
      "For example, when doing 'df[col].method(value, inplace=True)', try using 'df.method({col: value}, inplace=True)' or df[col] = df[col].method(value) instead, to perform the operation inplace on the original object.\n",
      "\n",
      "\n",
      "  df['Explanation'].fillna(df['Explanation'].mode()[0], inplace=True)\n"
     ]
    }
   ],
   "source": [
    "#filling the missing values with the most frequent option used \n",
    "df['Explanation'].fillna(df['Explanation'].mode()[0], inplace=True)\n"
   ]
  },
  {
   "cell_type": "code",
   "execution_count": 9,
   "metadata": {},
   "outputs": [
    {
     "name": "stdout",
     "output_type": "stream",
     "text": [
      "<class 'pandas.core.frame.DataFrame'>\n",
      "RangeIndex: 1048575 entries, 0 to 1048574\n",
      "Data columns (total 4 columns):\n",
      " #   Column       Non-Null Count    Dtype \n",
      "---  ------       --------------    ----- \n",
      " 0   PlanId       1048575 non-null  object\n",
      " 1   BenefitName  1048575 non-null  object\n",
      " 2   Explanation  1048575 non-null  object\n",
      " 3   Unnamed: 3   1368 non-null     object\n",
      "dtypes: object(4)\n",
      "memory usage: 32.0+ MB\n"
     ]
    }
   ],
   "source": [
    "df.info()"
   ]
  },
  {
   "cell_type": "code",
   "execution_count": 10,
   "metadata": {},
   "outputs": [],
   "source": [
    "#convert all the values to string \n",
    "df[df.columns[3]] = df[df.columns[3]].astype(str)\n"
   ]
  },
  {
   "cell_type": "code",
   "execution_count": 15,
   "metadata": {},
   "outputs": [],
   "source": [
    "#To remove the unnecessary column\n",
    "df_cleaned = df.drop(columns=[\"Unnamed: 3\"], errors=\"ignore\")\n"
   ]
  },
  {
   "cell_type": "code",
   "execution_count": 16,
   "metadata": {},
   "outputs": [
    {
     "data": {
      "text/html": [
       "<div>\n",
       "<style scoped>\n",
       "    .dataframe tbody tr th:only-of-type {\n",
       "        vertical-align: middle;\n",
       "    }\n",
       "\n",
       "    .dataframe tbody tr th {\n",
       "        vertical-align: top;\n",
       "    }\n",
       "\n",
       "    .dataframe thead th {\n",
       "        text-align: right;\n",
       "    }\n",
       "</style>\n",
       "<table border=\"1\" class=\"dataframe\">\n",
       "  <thead>\n",
       "    <tr style=\"text-align: right;\">\n",
       "      <th></th>\n",
       "      <th>PlanId</th>\n",
       "      <th>BenefitName</th>\n",
       "      <th>Explanation</th>\n",
       "    </tr>\n",
       "  </thead>\n",
       "  <tbody>\n",
       "    <tr>\n",
       "      <th>0</th>\n",
       "      <td>21989AK0030001-00</td>\n",
       "      <td>Routine Dental Services (Adult)</td>\n",
       "      <td>See policy for other limits</td>\n",
       "    </tr>\n",
       "    <tr>\n",
       "      <th>1</th>\n",
       "      <td>21989AK0030001-00</td>\n",
       "      <td>Dental Check-Up for Children</td>\n",
       "      <td>See policy for limits</td>\n",
       "    </tr>\n",
       "    <tr>\n",
       "      <th>2</th>\n",
       "      <td>21989AK0030001-00</td>\n",
       "      <td>Basic Dental Care - Child</td>\n",
       "      <td>See policy for limits</td>\n",
       "    </tr>\n",
       "    <tr>\n",
       "      <th>3</th>\n",
       "      <td>21989AK0030001-00</td>\n",
       "      <td>Orthodontia - Child</td>\n",
       "      <td>For medically necessary only</td>\n",
       "    </tr>\n",
       "    <tr>\n",
       "      <th>4</th>\n",
       "      <td>21989AK0030001-00</td>\n",
       "      <td>Major Dental Care - Child</td>\n",
       "      <td>See policy for limits</td>\n",
       "    </tr>\n",
       "  </tbody>\n",
       "</table>\n",
       "</div>"
      ],
      "text/plain": [
       "              PlanId                      BenefitName  \\\n",
       "0  21989AK0030001-00  Routine Dental Services (Adult)   \n",
       "1  21989AK0030001-00     Dental Check-Up for Children   \n",
       "2  21989AK0030001-00        Basic Dental Care - Child   \n",
       "3  21989AK0030001-00              Orthodontia - Child   \n",
       "4  21989AK0030001-00        Major Dental Care - Child   \n",
       "\n",
       "                    Explanation  \n",
       "0   See policy for other limits  \n",
       "1         See policy for limits  \n",
       "2         See policy for limits  \n",
       "3  For medically necessary only  \n",
       "4         See policy for limits  "
      ]
     },
     "execution_count": 16,
     "metadata": {},
     "output_type": "execute_result"
    }
   ],
   "source": [
    "df_cleaned.head()"
   ]
  },
  {
   "cell_type": "code",
   "execution_count": 20,
   "metadata": {},
   "outputs": [
    {
     "data": {
      "text/html": [
       "<div>\n",
       "<style scoped>\n",
       "    .dataframe tbody tr th:only-of-type {\n",
       "        vertical-align: middle;\n",
       "    }\n",
       "\n",
       "    .dataframe tbody tr th {\n",
       "        vertical-align: top;\n",
       "    }\n",
       "\n",
       "    .dataframe thead th {\n",
       "        text-align: right;\n",
       "    }\n",
       "</style>\n",
       "<table border=\"1\" class=\"dataframe\">\n",
       "  <thead>\n",
       "    <tr style=\"text-align: right;\">\n",
       "      <th></th>\n",
       "      <th>PlanId</th>\n",
       "      <th>BenefitName</th>\n",
       "      <th>Explanation</th>\n",
       "      <th>BenefitName_Tokens</th>\n",
       "      <th>Explanation_Tokens</th>\n",
       "    </tr>\n",
       "  </thead>\n",
       "  <tbody>\n",
       "    <tr>\n",
       "      <th>0</th>\n",
       "      <td>21989AK0030001-00</td>\n",
       "      <td>Routine Dental Services (Adult)</td>\n",
       "      <td>See policy for other limits</td>\n",
       "      <td>[Routine, Dental, Services, Adult]</td>\n",
       "      <td>[See, policy, for, other, limits]</td>\n",
       "    </tr>\n",
       "    <tr>\n",
       "      <th>1</th>\n",
       "      <td>21989AK0030001-00</td>\n",
       "      <td>Dental Check-Up for Children</td>\n",
       "      <td>See policy for limits</td>\n",
       "      <td>[Dental, Check, Up, for, Children]</td>\n",
       "      <td>[See, policy, for, limits]</td>\n",
       "    </tr>\n",
       "    <tr>\n",
       "      <th>2</th>\n",
       "      <td>21989AK0030001-00</td>\n",
       "      <td>Basic Dental Care - Child</td>\n",
       "      <td>See policy for limits</td>\n",
       "      <td>[Basic, Dental, Care, Child]</td>\n",
       "      <td>[See, policy, for, limits]</td>\n",
       "    </tr>\n",
       "    <tr>\n",
       "      <th>3</th>\n",
       "      <td>21989AK0030001-00</td>\n",
       "      <td>Orthodontia - Child</td>\n",
       "      <td>For medically necessary only</td>\n",
       "      <td>[Orthodontia, Child]</td>\n",
       "      <td>[For, medically, necessary, only]</td>\n",
       "    </tr>\n",
       "    <tr>\n",
       "      <th>4</th>\n",
       "      <td>21989AK0030001-00</td>\n",
       "      <td>Major Dental Care - Child</td>\n",
       "      <td>See policy for limits</td>\n",
       "      <td>[Major, Dental, Care, Child]</td>\n",
       "      <td>[See, policy, for, limits]</td>\n",
       "    </tr>\n",
       "  </tbody>\n",
       "</table>\n",
       "</div>"
      ],
      "text/plain": [
       "              PlanId                      BenefitName  \\\n",
       "0  21989AK0030001-00  Routine Dental Services (Adult)   \n",
       "1  21989AK0030001-00     Dental Check-Up for Children   \n",
       "2  21989AK0030001-00        Basic Dental Care - Child   \n",
       "3  21989AK0030001-00              Orthodontia - Child   \n",
       "4  21989AK0030001-00        Major Dental Care - Child   \n",
       "\n",
       "                    Explanation                  BenefitName_Tokens  \\\n",
       "0   See policy for other limits  [Routine, Dental, Services, Adult]   \n",
       "1         See policy for limits  [Dental, Check, Up, for, Children]   \n",
       "2         See policy for limits        [Basic, Dental, Care, Child]   \n",
       "3  For medically necessary only                [Orthodontia, Child]   \n",
       "4         See policy for limits        [Major, Dental, Care, Child]   \n",
       "\n",
       "                  Explanation_Tokens  \n",
       "0  [See, policy, for, other, limits]  \n",
       "1         [See, policy, for, limits]  \n",
       "2         [See, policy, for, limits]  \n",
       "3  [For, medically, necessary, only]  \n",
       "4         [See, policy, for, limits]  "
      ]
     },
     "execution_count": 20,
     "metadata": {},
     "output_type": "execute_result"
    }
   ],
   "source": [
    "import re\n",
    "\n",
    "# Function to tokenize text using regex (splitting on non-word characters)\n",
    "def regex_tokenize(text):\n",
    "    return re.findall(r'\\b\\w+\\b', text)\n",
    "\n",
    "# Apply regex-based tokenization\n",
    "df_cleaned[\"BenefitName_Tokens\"] = df_cleaned[\"BenefitName\"].apply(regex_tokenize)\n",
    "df_cleaned[\"Explanation_Tokens\"] = df_cleaned[\"Explanation\"].apply(regex_tokenize)\n",
    "\n",
    "# Display the first few rows to check tokenization results\n",
    "df_cleaned.head()\n"
   ]
  },
  {
   "cell_type": "code",
   "execution_count": 31,
   "metadata": {},
   "outputs": [
    {
     "ename": "SyntaxError",
     "evalue": "invalid syntax (3928285489.py, line 1)",
     "output_type": "error",
     "traceback": [
      "\u001b[1;36m  Cell \u001b[1;32mIn[31], line 1\u001b[1;36m\u001b[0m\n\u001b[1;33m    pip install nltk\u001b[0m\n\u001b[1;37m        ^\u001b[0m\n\u001b[1;31mSyntaxError\u001b[0m\u001b[1;31m:\u001b[0m invalid syntax\n"
     ]
    }
   ],
   "source": [
    "pip install nltk\n",
    "\n",
    "\n"
   ]
  },
  {
   "cell_type": "code",
   "execution_count": 23,
   "metadata": {},
   "outputs": [
    {
     "ename": "ModuleNotFoundError",
     "evalue": "No module named 'spacy'",
     "output_type": "error",
     "traceback": [
      "\u001b[1;31m---------------------------------------------------------------------------\u001b[0m",
      "\u001b[1;31mModuleNotFoundError\u001b[0m                       Traceback (most recent call last)",
      "Cell \u001b[1;32mIn[23], line 1\u001b[0m\n\u001b[1;32m----> 1\u001b[0m \u001b[38;5;28;01mimport\u001b[39;00m \u001b[38;5;21;01mspacy\u001b[39;00m\n\u001b[0;32m      3\u001b[0m \u001b[38;5;66;03m# Load SpaCy model\u001b[39;00m\n\u001b[0;32m      4\u001b[0m nlp \u001b[38;5;241m=\u001b[39m spacy\u001b[38;5;241m.\u001b[39mload(\u001b[38;5;124m\"\u001b[39m\u001b[38;5;124men_core_web_sm\u001b[39m\u001b[38;5;124m\"\u001b[39m)\n",
      "\u001b[1;31mModuleNotFoundError\u001b[0m: No module named 'spacy'"
     ]
    }
   ],
   "source": [
    "import spacy\n",
    "\n",
    "# Load SpaCy model\n",
    "nlp = spacy.load(\"en_core_web_sm\")\n",
    "\n",
    "# Function to normalize text\n",
    "def normalize_text(text):\n",
    "    text = text.lower()  # Convert to lowercase\n",
    "    text = re.sub(r'[^a-z0-9\\s]', '', text)  # Remove special characters\n",
    "    doc = nlp(text)\n",
    "    return \" \".join([token.lemma_ for token in doc if not token.is_stop])  # Lemmatization & stopword removal\n",
    "\n",
    "# Apply normalization\n",
    "df[\"BenefitName_Normalized\"] = df[\"BenefitName\"].apply(normalize_text)\n",
    "df[\"Explanation_Normalized\"] = df[\"Explanation\"].apply(normalize_text)\n",
    "\n",
    "# Display the first few rows\n",
    "print(df[[\"BenefitName\", \"BenefitName_Normalized\", \"Explanation\", \"Explanation_Normalized\"]].head())\n"
   ]
  },
  {
   "cell_type": "code",
   "execution_count": null,
   "metadata": {},
   "outputs": [],
   "source": []
  }
 ],
 "metadata": {
  "kernelspec": {
   "display_name": "Python 3",
   "language": "python",
   "name": "python3"
  },
  "language_info": {
   "codemirror_mode": {
    "name": "ipython",
    "version": 3
   },
   "file_extension": ".py",
   "mimetype": "text/x-python",
   "name": "python",
   "nbconvert_exporter": "python",
   "pygments_lexer": "ipython3",
   "version": "3.11.9"
  }
 },
 "nbformat": 4,
 "nbformat_minor": 2
}
